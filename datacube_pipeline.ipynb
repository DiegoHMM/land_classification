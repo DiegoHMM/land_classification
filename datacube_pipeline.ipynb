{
 "cells": [
  {
   "cell_type": "markdown",
   "id": "22e8dff4",
   "metadata": {},
   "source": [
    "### Get DC bboxes"
   ]
  },
  {
   "cell_type": "code",
   "execution_count": null,
   "id": "d241b4ec",
   "metadata": {},
   "outputs": [],
   "source": [
    "import geopandas as gpd\n",
    "\n",
    "# Carrega o grid\n",
    "grid = gpd.read_file('grid/grid_bh.shp')\n",
    "grid_wgs84 = grid.to_crs(epsg=4326)\n",
    "bbox_list = []\n",
    "\n",
    "# Tamanho da bbox ao redor do ponto central (em graus)\n",
    "buffer_size = 0.001  # ajuste este valor conforme necessário\n",
    "\n",
    "for _, cell in grid_wgs84.iterrows():\n",
    "    cell_id = cell['NOARQXWD'] if 'NOARQXWD' in cell else cell.name\n",
    "    \n",
    "    # Obtém o ponto central da célula\n",
    "    centroid = cell.geometry.centroid\n",
    "    \n",
    "    # Cria uma bbox ao redor do ponto central\n",
    "    minx = centroid.x - buffer_size\n",
    "    maxx = centroid.x + buffer_size\n",
    "    miny = centroid.y - buffer_size\n",
    "    maxy = centroid.y + buffer_size\n",
    "    \n",
    "    bbox_str = f\"[{minx}, {miny}, {maxx}, {maxy}]\"\n",
    "    bbox_list.append((cell_id, bbox_str))\n",
    "    \n",
    "with open('centroid_bboxes.txt', 'w') as f:\n",
    "    for cell_id, bbox_str in bbox_list:\n",
    "        f.write(f\"{cell_id}: {bbox_str}\\n\")"
   ]
  },
  {
   "cell_type": "markdown",
   "id": "04bc5d08",
   "metadata": {},
   "source": [
    "### Collect Datacubes"
   ]
  },
  {
   "cell_type": "code",
   "execution_count": null,
   "id": "e0fe3074",
   "metadata": {},
   "outputs": [],
   "source": [
    "from pystac_client import Client\n",
    "import odc.stac\n",
    "import ast\n",
    "import rioxarray\n",
    "from requests.exceptions import RequestException\n",
    "import logging\n",
    "import os\n",
    "import json\n",
    "from pathlib import Path\n",
    "\n",
    "# Configuração de logging\n",
    "logging.basicConfig(level=logging.INFO)\n",
    "logger = logging.getLogger(__name__)\n",
    "\n",
    "def load_checkpoint(checkpoint_file):\n",
    "    \"\"\"Carrega o estado do checkpoint se existir\"\"\"\n",
    "    if os.path.exists(checkpoint_file):\n",
    "        with open(checkpoint_file, 'r') as f:\n",
    "            return json.load(f)\n",
    "    return {'completed': [], 'failed': []}\n",
    "\n",
    "def save_checkpoint(checkpoint_file, state):\n",
    "    \"\"\"Salva o estado atual no checkpoint\"\"\"\n",
    "    with open(checkpoint_file, 'w') as f:\n",
    "        json.dump(state, f)\n",
    "\n",
    "def get_datacube(catalog_url, bbox, product_name, time_interval, resolution=0.2, bands=[\"red\", \"green\", \"blue\"], crs=\"EPSG:31983\"):\n",
    "    try:\n",
    "        client = Client.open(catalog_url, timeout=30)\n",
    "        search = client.search(\n",
    "            collections=product_name,\n",
    "            bbox=ast.literal_eval(bbox),\n",
    "            datetime=time_interval,\n",
    "        )\n",
    "        items = search.item_collection()\n",
    "        \n",
    "        if not items:\n",
    "            logger.warning(f\"Nenhum item encontrado para {product_name} no bbox {bbox}\")\n",
    "            return None\n",
    "            \n",
    "        for item in items:\n",
    "            for asset_key, asset in item.assets.items():\n",
    "                if \"proj:code\" in asset.extra_fields:\n",
    "                    asset.extra_fields[\"proj:epsg\"] = int(asset.extra_fields[\"proj:code\"].split(\":\")[1])\n",
    "        \n",
    "        return odc.stac.load(\n",
    "            items,\n",
    "            bands=bands,\n",
    "            crs=crs,\n",
    "            resolution=resolution,\n",
    "        )\n",
    "        \n",
    "    except Exception as e:\n",
    "        logger.error(f\"Erro ao processar {product_name} no bbox {bbox}: {str(e)}\")\n",
    "        return None"
   ]
  },
  {
   "cell_type": "code",
   "execution_count": null,
   "id": "57544f8a",
   "metadata": {},
   "outputs": [],
   "source": [
    "# Configurações\n",
    "catalog_url = \"http://aqui.io/cuborizonte/catalogo/stac\"\n",
    "time_interval = \"2015-01-01/2015-12-31\"\n",
    "resolution = 0.2\n",
    "\n",
    "X_product_name = \"bh_ortophoto\"\n",
    "X_bands = [\"red\", \"green\", \"blue\"]\n",
    "\n",
    "y_product_name = \"bh_lidar_rasterized\"\n",
    "y_bands = [\"classification\"]\n",
    "\n",
    "X_path = \"data/X/\"\n",
    "y_path = \"data/y/\"\n",
    "checkpoint_file = \"processing_checkpoint.json\"\n"
   ]
  },
  {
   "cell_type": "code",
   "execution_count": null,
   "id": "674ebf04",
   "metadata": {},
   "outputs": [],
   "source": [
    "# Criar diretórios se não existirem\n",
    "Path(X_path).mkdir(parents=True, exist_ok=True)\n",
    "Path(y_path).mkdir(parents=True, exist_ok=True)\n",
    "\n",
    "# Carregar estado anterior\n",
    "checkpoint = load_checkpoint(checkpoint_file)\n",
    "completed = set(checkpoint['completed'])\n",
    "failed_previous_run = set(checkpoint['failed'])\n",
    "\n",
    "# Processar cada grid\n",
    "for grid_name, grid_bbox in bbox_list:\n",
    "    # Pular grids já processados com sucesso\n",
    "    if grid_name in completed:\n",
    "        logger.info(f\"Pulando {grid_name} - já processado com sucesso\")\n",
    "        continue\n",
    "        \n",
    "    logger.info(f\"Processando grid: {grid_name}\")\n",
    "    success = True\n",
    "    \n",
    "    try:\n",
    "        # Processar dados X\n",
    "        x_file = f\"{X_path}/{grid_name}.tif\"\n",
    "        if not os.path.exists(x_file):\n",
    "            xx = get_datacube(catalog_url, grid_bbox, X_product_name, time_interval, resolution, X_bands)\n",
    "            if xx is not None:\n",
    "                xx = xx.isel(time=0) \n",
    "                xx_array = xx.to_array('band').transpose('band', 'y', 'x')\n",
    "                xx_array.rio.to_raster(x_file, driver=\"GTiff\")\n",
    "                logger.info(f\"Dados X salvos para {grid_name}\")\n",
    "            else:\n",
    "                success = False\n",
    "                logger.warning(f\"Falha ao obter dados X para {grid_name}\")\n",
    "        else:\n",
    "            logger.info(f\"Arquivo X já existe para {grid_name}\")\n",
    "\n",
    "        # Processar dados y apenas se X foi bem sucedido\n",
    "        y_file = f\"{y_path}/{grid_name}.tif\"\n",
    "        if success and not os.path.exists(y_file):\n",
    "            yy = get_datacube(catalog_url, grid_bbox, y_product_name, time_interval, resolution, y_bands)\n",
    "            if yy is not None:\n",
    "                yy = yy.isel(time=0)\n",
    "                yy_array = yy.to_array('band').transpose('band', 'y', 'x')\n",
    "                yy_array.rio.to_raster(y_file, driver=\"GTiff\")\n",
    "                logger.info(f\"Dados y salvos para {grid_name}\")\n",
    "            else:\n",
    "                success = False\n",
    "                logger.warning(f\"Falha ao obter dados y para {grid_name}\")\n",
    "        elif os.path.exists(y_file):\n",
    "            logger.info(f\"Arquivo y já existe para {grid_name}\")\n",
    "\n",
    "        # Atualizar checkpoint\n",
    "        if success:\n",
    "            completed.add(grid_name)\n",
    "            if grid_name in failed_previous_run:\n",
    "                failed_previous_run.remove(grid_name)\n",
    "            save_checkpoint(checkpoint_file, {\n",
    "                'completed': list(completed),\n",
    "                'failed': list(failed_previous_run)\n",
    "            })\n",
    "        else:\n",
    "            failed_previous_run.add(grid_name)\n",
    "            save_checkpoint(checkpoint_file, {\n",
    "                'completed': list(completed),\n",
    "                'failed': list(failed_previous_run)\n",
    "            })\n",
    "            \n",
    "    except Exception as e:\n",
    "        logger.error(f\"Erro crítico ao processar grid {grid_name}: {str(e)}\")\n",
    "        failed_previous_run.add(grid_name)\n",
    "        save_checkpoint(checkpoint_file, {\n",
    "            'completed': list(completed),\n",
    "            'failed': list(failed_previous_run)\n",
    "        })\n",
    "        continue\n",
    "\n",
    "logger.info(\"Processamento concluído\")"
   ]
  },
  {
   "cell_type": "markdown",
   "id": "0a874877",
   "metadata": {},
   "source": [
    "### Process Pares"
   ]
  },
  {
   "cell_type": "code",
   "execution_count": null,
   "id": "6b7a7b5c",
   "metadata": {},
   "outputs": [],
   "source": [
    "class_names = {\n",
    "    0: \"Created, never classified\",\n",
    "    1: \"Unclassified\",\n",
    "    2: \"Ground\",\n",
    "    3: \"Low Vegetation\",\n",
    "    4: \"Medium Vegetation\",\n",
    "    5: \"High Vegetation\",\n",
    "    6: \"Building\",\n",
    "    7: \"Low Point (Noise)\",\n",
    "    8: \"Model Key Point (Mass Point)\",\n",
    "    9: \"Water\",\n",
    "    10: \"Rail\",\n",
    "    11: \"Road Surface\",\n",
    "    12: \"Overlap Points\",\n",
    "    13: \"Wire - Guard\",\n",
    "    14: \"Wire - Conductor\",\n",
    "    15: \"Transmission Tower\",\n",
    "    16: \"Wire - Connector\",\n",
    "    17: \"Bridge Deck\",\n",
    "    18: \"High Noise\",\n",
    "    19: \"Overhead Structure\",\n",
    "    20: \"Ignored Ground\"\n",
    "}\n",
    "\n"
   ]
  },
  {
   "cell_type": "markdown",
   "id": "c146b04c",
   "metadata": {},
   "source": [
    "PIPELINE DE PROCESSAMENTO DE MÁSCARAS Y\n",
    "\n",
    "Esta pipeline realiza a conversão de máscaras de classificação em imagens RGB temáticas,\n",
    "aplicando filtros para suavização e removendo artefatos indesejados.\n",
    "\n",
    "Passos principais:\n",
    "1. Carrega imagens de máscara (.tif) do diretório de entrada\n",
    "2. Converte as classes em bandas RGB temáticas:\n",
    "   - Vermelho: Áreas que NÃO são vegetação alta (5) nem construções (6)\n",
    "   - Verde: Vegetação alta (classe 5)\n",
    "   - Azul: Construções (classe 6)\n",
    "3. Aplica filtros de pós-processamento:\n",
    "   - Filtro de mediana para reduzir ruído (tamanho 10x10)\n",
    "5. Salva as imagens processadas no diretório de saída em formato RGB\n",
    "\n",
    "Observações:\n",
    "- As imagens de saída mantêm a georreferência original\n",
    "- O filtro de mediana ajuda a suavizar bordas irregulares\n",
    "- O valor 0 (background) é tratado separadamente na função maskerize_y"
   ]
  },
  {
   "cell_type": "code",
   "execution_count": null,
   "id": "3161423f",
   "metadata": {},
   "outputs": [],
   "source": [
    "import rasterio\n",
    "import numpy as np\n",
    "import os\n",
    "from scipy.ndimage import gaussian_filter, generic_filter\n",
    "from scipy.stats import mode\n",
    "from scipy.ndimage import median_filter\n",
    "import cv2\n",
    "\n",
    "\n",
    "def apply_median_filter(img, size=3):\n",
    "    return median_filter(img, size=size)\n",
    "\n",
    "def apply_mode_filter(img, size=3):\n",
    "    return generic_filter(img, lambda x: mode(x).mode, size=size)\n",
    "\n",
    "\n",
    "def apply_bilateral_filter(img, d=5, sigma_color=50, sigma_space=50):\n",
    "    return cv2.bilateralFilter(img, d, sigma_color, sigma_space)\n",
    "\n",
    "\n",
    "def apply_smoothing(img, sigma=1):\n",
    "    \"\"\"Aplica um filtro gaussiano para suavizar a imagem.\"\"\"\n",
    "    return gaussian_filter(img, sigma=sigma)\n",
    "\n",
    "def remove_black_pixels(red_band, green_band, blue_band):\n",
    "    # Encontra pixels onde todas as bandas são 0 (preto)\n",
    "    black_mask = (red_band == 0) & (green_band == 0) & (blue_band == 0)\n",
    "    # Seta a banda vermelha para 255 nesses pixels\n",
    "    red_band[black_mask] = 255\n",
    "    return red_band, green_band, blue_band\n",
    "\n",
    "def maskerize_y(img):\n",
    "    # Banda Azul: Apenas classe 6 (Building)\n",
    "    blue_band = np.where(img == 6, 255, 0).astype(np.uint8)\n",
    "    # Banda Verde: Apenas classe 5 (High Vegetation)\n",
    "    green_band = np.where(img == 5, 255, 0).astype(np.uint8)\n",
    "    # Banda Vermelha: Tudo que NÃO é verde (5) nem azul (6)\n",
    "    #red_band = np.where((img != 5) & (img != 6), 255, 0).astype(np.uint8)\n",
    "    red_band = np.where((img != 5) & (img != 6) & (img != 0), 255, 0).astype(np.uint8)\n",
    "    \n",
    "    return red_band, green_band, blue_band\n",
    "\n",
    "def pipeline_y(input_dir, output_dir, sigma=1):\n",
    "    os.makedirs(output_dir, exist_ok=True)\n",
    "    tif_files = [f for f in os.listdir(input_dir) if f.endswith('.tif')]\n",
    "\n",
    "    for filename in tif_files:\n",
    "        input_path = os.path.join(input_dir, filename)\n",
    "        output_path = os.path.join(output_dir, filename)\n",
    "\n",
    "        with rasterio.open(input_path) as src:\n",
    "            img = src.read(1)\n",
    "            profile = src.profile.copy()\n",
    "\n",
    "        \n",
    "\n",
    "        # Gera as bandas RGB a partir da imagem suavizada\n",
    "        red_band, green_band, blue_band = maskerize_y(img)\n",
    "\n",
    "        profile.update({\n",
    "            'count': 3,\n",
    "            'dtype': 'uint8'\n",
    "        })\n",
    "\n",
    "        # Aplica o filtro de suavização\n",
    "        #red_band = apply_smoothing(red_band, sigma=sigma)\n",
    "        #green_band = apply_smoothing(green_band, sigma=sigma)\n",
    "        #blue_band = apply_smoothing(blue_band, sigma=sigma)\n",
    "\n",
    "        #red_band = apply_mode_filter(red_band, size=3)\n",
    "        #green_band = apply_mode_filter(green_band, size=3)\n",
    "        #blue_band = apply_mode_filter(blue_band, size=3)\n",
    "\n",
    "        red_band = apply_median_filter(red_band, size=10)\n",
    "        green_band = apply_median_filter(green_band, size=10)\n",
    "        blue_band = apply_median_filter(blue_band, size=10)\n",
    "\n",
    "        #red_band = apply_bilateral_filter(red_band)\n",
    "        #green_band = apply_bilateral_filter(green_band)\n",
    "        #blue_band = apply_bilateral_filter(blue_band)\n",
    "\n",
    "        # Garante que não haja (0, 0, 0)\n",
    "        #red_band, green_band, blue_band = remove_black_pixels(red_band, green_band, blue_band)\n",
    "\n",
    "        with rasterio.open(output_path, 'w', **profile) as dst:\n",
    "            dst.write(red_band, 1)\n",
    "            dst.write(green_band, 2)\n",
    "            dst.write(blue_band, 3)\n",
    "            \n",
    "\n",
    "        print(f\"Imagem processada: {filename} (σ={sigma})\")\n",
    "\n",
    "    print(\"Processamento concluído para todas as imagens!\")\n",
    "\n",
    "# Exemplo de uso:\n",
    "input_dir = 'data/y/'\n",
    "output_dir = 'data/processed/y/'\n",
    "pipeline_y(input_dir, output_dir, sigma=5)"
   ]
  },
  {
   "cell_type": "code",
   "execution_count": null,
   "id": "bb3caa70",
   "metadata": {},
   "outputs": [
    {
     "name": "stdout",
     "output_type": "stream",
     "text": [
      "\n",
      "=== Processamento Iniciado ===\n",
      "Pares encontrados: 338\n",
      "Tamanho do tile: 512x512\n",
      "Limite de pixels pretos: 5%\n",
      "\n",
      "\n",
      "Processando: 4243.tif\n"
     ]
    },
    {
     "name": "stderr",
     "output_type": "stream",
     "text": [
      "Linhas - 4243: 100%|██████████| 9/9 [00:04<00:00,  1.82it/s]\n"
     ]
    },
    {
     "name": "stdout",
     "output_type": "stream",
     "text": [
      "Tiles gerados: 1\n",
      "\n",
      "Processando: 4244.tif\n"
     ]
    },
    {
     "name": "stderr",
     "output_type": "stream",
     "text": [
      "Linhas - 4244: 100%|██████████| 9/9 [00:07<00:00,  1.20it/s]\n"
     ]
    },
    {
     "name": "stdout",
     "output_type": "stream",
     "text": [
      "Tiles gerados: 18\n",
      "\n",
      "Processando: 4341.tif\n"
     ]
    },
    {
     "name": "stderr",
     "output_type": "stream",
     "text": [
      "Linhas - 4341: 100%|██████████| 9/9 [00:05<00:00,  1.52it/s]\n"
     ]
    },
    {
     "name": "stdout",
     "output_type": "stream",
     "text": [
      "Tiles gerados: 0\n",
      "\n",
      "Processando: 4342.tif\n"
     ]
    },
    {
     "name": "stderr",
     "output_type": "stream",
     "text": [
      "Linhas - 4342: 100%|██████████| 9/9 [00:10<00:00,  1.14s/it]\n"
     ]
    },
    {
     "name": "stdout",
     "output_type": "stream",
     "text": [
      "Tiles gerados: 54\n",
      "\n",
      "Processando: 4343.tif\n"
     ]
    },
    {
     "name": "stderr",
     "output_type": "stream",
     "text": [
      "Linhas - 4343: 100%|██████████| 9/9 [00:14<00:00,  1.57s/it]\n"
     ]
    },
    {
     "name": "stdout",
     "output_type": "stream",
     "text": [
      "Tiles gerados: 98\n",
      "\n",
      "Processando: 4344.tif\n"
     ]
    },
    {
     "name": "stderr",
     "output_type": "stream",
     "text": [
      "Linhas - 4344: 100%|██████████| 9/9 [00:14<00:00,  1.66s/it]\n"
     ]
    },
    {
     "name": "stdout",
     "output_type": "stream",
     "text": [
      "Tiles gerados: 91\n",
      "\n",
      "Processando: 4345.tif\n"
     ]
    },
    {
     "name": "stderr",
     "output_type": "stream",
     "text": [
      "Linhas - 4345: 100%|██████████| 9/9 [00:07<00:00,  1.22it/s]\n"
     ]
    },
    {
     "name": "stdout",
     "output_type": "stream",
     "text": [
      "Tiles gerados: 6\n",
      "\n",
      "Processando: 4439.tif\n"
     ]
    },
    {
     "name": "stderr",
     "output_type": "stream",
     "text": [
      "Linhas - 4439: 100%|██████████| 9/9 [00:14<00:00,  1.60s/it]\n"
     ]
    },
    {
     "name": "stdout",
     "output_type": "stream",
     "text": [
      "Tiles gerados: 3\n",
      "\n",
      "Processando: 4440.tif\n"
     ]
    },
    {
     "name": "stderr",
     "output_type": "stream",
     "text": [
      "Linhas - 4440: 100%|██████████| 9/9 [00:12<00:00,  1.40s/it]\n"
     ]
    },
    {
     "name": "stdout",
     "output_type": "stream",
     "text": [
      "Tiles gerados: 26\n",
      "\n",
      "Processando: 4441.tif\n"
     ]
    },
    {
     "name": "stderr",
     "output_type": "stream",
     "text": [
      "Linhas - 4441: 100%|██████████| 9/9 [00:16<00:00,  1.86s/it]\n"
     ]
    },
    {
     "name": "stdout",
     "output_type": "stream",
     "text": [
      "Tiles gerados: 59\n",
      "\n",
      "Processando: 4442.tif\n"
     ]
    },
    {
     "name": "stderr",
     "output_type": "stream",
     "text": [
      "Linhas - 4442: 100%|██████████| 9/9 [00:16<00:00,  1.84s/it]\n"
     ]
    },
    {
     "name": "stdout",
     "output_type": "stream",
     "text": [
      "Tiles gerados: 83\n",
      "\n",
      "Processando: 4443.tif\n"
     ]
    },
    {
     "name": "stderr",
     "output_type": "stream",
     "text": [
      "Linhas - 4443: 100%|██████████| 9/9 [00:11<00:00,  1.25s/it]\n"
     ]
    },
    {
     "name": "stdout",
     "output_type": "stream",
     "text": [
      "Tiles gerados: 65\n",
      "\n",
      "Processando: 4444.tif\n"
     ]
    },
    {
     "name": "stderr",
     "output_type": "stream",
     "text": [
      "Linhas - 4444: 100%|██████████| 9/9 [00:07<00:00,  1.15it/s]\n"
     ]
    },
    {
     "name": "stdout",
     "output_type": "stream",
     "text": [
      "Tiles gerados: 9\n",
      "\n",
      "Processando: 4538.tif\n"
     ]
    },
    {
     "name": "stderr",
     "output_type": "stream",
     "text": [
      "Linhas - 4538: 100%|██████████| 9/9 [00:07<00:00,  1.22it/s]\n"
     ]
    },
    {
     "name": "stdout",
     "output_type": "stream",
     "text": [
      "Tiles gerados: 11\n",
      "\n",
      "Processando: 4539.tif\n"
     ]
    },
    {
     "name": "stderr",
     "output_type": "stream",
     "text": [
      "Linhas - 4539: 100%|██████████| 9/9 [00:10<00:00,  1.17s/it]\n"
     ]
    },
    {
     "name": "stdout",
     "output_type": "stream",
     "text": [
      "Tiles gerados: 57\n",
      "\n",
      "Processando: 4540.tif\n"
     ]
    },
    {
     "name": "stderr",
     "output_type": "stream",
     "text": [
      "Linhas - 4540: 100%|██████████| 9/9 [00:13<00:00,  1.48s/it]\n"
     ]
    },
    {
     "name": "stdout",
     "output_type": "stream",
     "text": [
      "Tiles gerados: 76\n",
      "\n",
      "Processando: 4541.tif\n"
     ]
    },
    {
     "name": "stderr",
     "output_type": "stream",
     "text": [
      "Linhas - 4541: 100%|██████████| 9/9 [00:12<00:00,  1.41s/it]\n"
     ]
    },
    {
     "name": "stdout",
     "output_type": "stream",
     "text": [
      "Tiles gerados: 80\n",
      "\n",
      "Processando: 4542.tif\n"
     ]
    },
    {
     "name": "stderr",
     "output_type": "stream",
     "text": [
      "Linhas - 4542: 100%|██████████| 9/9 [00:13<00:00,  1.47s/it]\n"
     ]
    },
    {
     "name": "stdout",
     "output_type": "stream",
     "text": [
      "Tiles gerados: 75\n",
      "\n",
      "Processando: 4543.tif\n"
     ]
    },
    {
     "name": "stderr",
     "output_type": "stream",
     "text": [
      "Linhas - 4543: 100%|██████████| 9/9 [00:13<00:00,  1.54s/it]\n"
     ]
    },
    {
     "name": "stdout",
     "output_type": "stream",
     "text": [
      "Tiles gerados: 72\n",
      "\n",
      "Processando: 4544.tif\n"
     ]
    },
    {
     "name": "stderr",
     "output_type": "stream",
     "text": [
      "Linhas - 4544: 100%|██████████| 9/9 [00:12<00:00,  1.38s/it]\n"
     ]
    },
    {
     "name": "stdout",
     "output_type": "stream",
     "text": [
      "Tiles gerados: 76\n",
      "\n",
      "Processando: 4548.tif\n"
     ]
    },
    {
     "name": "stderr",
     "output_type": "stream",
     "text": [
      "Linhas - 4548: 100%|██████████| 9/9 [00:08<00:00,  1.04it/s]\n"
     ]
    },
    {
     "name": "stdout",
     "output_type": "stream",
     "text": [
      "Tiles gerados: 22\n",
      "\n",
      "Processando: 4549.tif\n"
     ]
    },
    {
     "name": "stderr",
     "output_type": "stream",
     "text": [
      "Linhas - 4549: 100%|██████████| 9/9 [00:08<00:00,  1.01it/s]\n"
     ]
    },
    {
     "name": "stdout",
     "output_type": "stream",
     "text": [
      "Tiles gerados: 28\n",
      "\n",
      "Processando: 4550.tif\n"
     ]
    },
    {
     "name": "stderr",
     "output_type": "stream",
     "text": [
      "Linhas - 4550: 100%|██████████| 9/9 [00:05<00:00,  1.57it/s]\n"
     ]
    },
    {
     "name": "stdout",
     "output_type": "stream",
     "text": [
      "Tiles gerados: 11\n",
      "\n",
      "Processando: 4551.tif\n"
     ]
    },
    {
     "name": "stderr",
     "output_type": "stream",
     "text": [
      "Linhas - 4551: 100%|██████████| 9/9 [00:10<00:00,  1.15s/it]\n"
     ]
    },
    {
     "name": "stdout",
     "output_type": "stream",
     "text": [
      "Tiles gerados: 37\n",
      "\n",
      "Processando: 4552.tif\n"
     ]
    },
    {
     "name": "stderr",
     "output_type": "stream",
     "text": [
      "Linhas - 4552: 100%|██████████| 9/9 [00:09<00:00,  1.01s/it]\n"
     ]
    },
    {
     "name": "stdout",
     "output_type": "stream",
     "text": [
      "Tiles gerados: 24\n",
      "\n",
      "Processando: 4553.tif\n"
     ]
    },
    {
     "name": "stderr",
     "output_type": "stream",
     "text": [
      "Linhas - 4553: 100%|██████████| 9/9 [00:08<00:00,  1.11it/s]\n"
     ]
    },
    {
     "name": "stdout",
     "output_type": "stream",
     "text": [
      "Tiles gerados: 15\n",
      "\n",
      "Processando: 4556.tif\n"
     ]
    },
    {
     "name": "stderr",
     "output_type": "stream",
     "text": [
      "Linhas - 4556: 100%|██████████| 9/9 [00:04<00:00,  1.94it/s]\n"
     ]
    },
    {
     "name": "stdout",
     "output_type": "stream",
     "text": [
      "Tiles gerados: 0\n",
      "\n",
      "Processando: 4635.tif\n"
     ]
    },
    {
     "name": "stderr",
     "output_type": "stream",
     "text": [
      "Linhas - 4635: 100%|██████████| 9/9 [00:07<00:00,  1.23it/s]\n"
     ]
    },
    {
     "name": "stdout",
     "output_type": "stream",
     "text": [
      "Tiles gerados: 15\n",
      "\n",
      "Processando: 4636.tif\n"
     ]
    },
    {
     "name": "stderr",
     "output_type": "stream",
     "text": [
      "Linhas - 4636: 100%|██████████| 9/9 [00:12<00:00,  1.35s/it]\n"
     ]
    },
    {
     "name": "stdout",
     "output_type": "stream",
     "text": [
      "Tiles gerados: 66\n",
      "\n",
      "Processando: 4637.tif\n"
     ]
    },
    {
     "name": "stderr",
     "output_type": "stream",
     "text": [
      "Linhas - 4637: 100%|██████████| 9/9 [00:07<00:00,  1.27it/s]\n"
     ]
    },
    {
     "name": "stdout",
     "output_type": "stream",
     "text": [
      "Tiles gerados: 8\n",
      "\n",
      "Processando: 4638.tif\n"
     ]
    },
    {
     "name": "stderr",
     "output_type": "stream",
     "text": [
      "Linhas - 4638: 100%|██████████| 9/9 [00:11<00:00,  1.31s/it]\n"
     ]
    },
    {
     "name": "stdout",
     "output_type": "stream",
     "text": [
      "Tiles gerados: 77\n",
      "\n",
      "Processando: 4639.tif\n"
     ]
    },
    {
     "name": "stderr",
     "output_type": "stream",
     "text": [
      "Linhas - 4639: 100%|██████████| 9/9 [00:13<00:00,  1.48s/it]\n"
     ]
    },
    {
     "name": "stdout",
     "output_type": "stream",
     "text": [
      "Tiles gerados: 78\n",
      "\n",
      "Processando: 4640.tif\n"
     ]
    },
    {
     "name": "stderr",
     "output_type": "stream",
     "text": [
      "Linhas - 4640: 100%|██████████| 9/9 [00:12<00:00,  1.33s/it]\n"
     ]
    },
    {
     "name": "stdout",
     "output_type": "stream",
     "text": [
      "Tiles gerados: 74\n",
      "\n",
      "Processando: 4641.tif\n"
     ]
    },
    {
     "name": "stderr",
     "output_type": "stream",
     "text": [
      "Linhas - 4641: 100%|██████████| 9/9 [00:11<00:00,  1.29s/it]\n"
     ]
    },
    {
     "name": "stdout",
     "output_type": "stream",
     "text": [
      "Tiles gerados: 54\n",
      "\n",
      "Processando: 4642.tif\n"
     ]
    },
    {
     "name": "stderr",
     "output_type": "stream",
     "text": [
      "Linhas - 4642: 100%|██████████| 9/9 [00:11<00:00,  1.32s/it]\n"
     ]
    },
    {
     "name": "stdout",
     "output_type": "stream",
     "text": [
      "Tiles gerados: 54\n",
      "\n",
      "Processando: 4643.tif\n"
     ]
    },
    {
     "name": "stderr",
     "output_type": "stream",
     "text": [
      "Linhas - 4643: 100%|██████████| 9/9 [00:12<00:00,  1.37s/it]\n"
     ]
    },
    {
     "name": "stdout",
     "output_type": "stream",
     "text": [
      "Tiles gerados: 77\n",
      "\n",
      "Processando: 4644.tif\n"
     ]
    },
    {
     "name": "stderr",
     "output_type": "stream",
     "text": [
      "Linhas - 4644: 100%|██████████| 9/9 [00:13<00:00,  1.52s/it]\n"
     ]
    },
    {
     "name": "stdout",
     "output_type": "stream",
     "text": [
      "Tiles gerados: 73\n",
      "\n",
      "Processando: 4645.tif\n"
     ]
    },
    {
     "name": "stderr",
     "output_type": "stream",
     "text": [
      "Linhas - 4645: 100%|██████████| 9/9 [00:10<00:00,  1.20s/it]\n"
     ]
    },
    {
     "name": "stdout",
     "output_type": "stream",
     "text": [
      "Tiles gerados: 50\n",
      "\n",
      "Processando: 4646.tif\n"
     ]
    },
    {
     "name": "stderr",
     "output_type": "stream",
     "text": [
      "Linhas - 4646: 100%|██████████| 9/9 [00:09<00:00,  1.02s/it]\n"
     ]
    },
    {
     "name": "stdout",
     "output_type": "stream",
     "text": [
      "Tiles gerados: 18\n",
      "\n",
      "Processando: 4647.tif\n"
     ]
    },
    {
     "name": "stderr",
     "output_type": "stream",
     "text": [
      "Linhas - 4647: 100%|██████████| 9/9 [00:07<00:00,  1.27it/s]\n"
     ]
    },
    {
     "name": "stdout",
     "output_type": "stream",
     "text": [
      "Tiles gerados: 2\n",
      "\n",
      "Processando: 4648.tif\n"
     ]
    },
    {
     "name": "stderr",
     "output_type": "stream",
     "text": [
      "Linhas - 4648: 100%|██████████| 9/9 [00:15<00:00,  1.74s/it]\n"
     ]
    },
    {
     "name": "stdout",
     "output_type": "stream",
     "text": [
      "Tiles gerados: 77\n",
      "\n",
      "Processando: 4649.tif\n"
     ]
    },
    {
     "name": "stderr",
     "output_type": "stream",
     "text": [
      "Linhas - 4649: 100%|██████████| 9/9 [00:13<00:00,  1.48s/it]\n"
     ]
    },
    {
     "name": "stdout",
     "output_type": "stream",
     "text": [
      "Tiles gerados: 81\n",
      "\n",
      "Processando: 4650.tif\n"
     ]
    },
    {
     "name": "stderr",
     "output_type": "stream",
     "text": [
      "Linhas - 4650: 100%|██████████| 9/9 [00:14<00:00,  1.65s/it]\n"
     ]
    },
    {
     "name": "stdout",
     "output_type": "stream",
     "text": [
      "Tiles gerados: 87\n",
      "\n",
      "Processando: 4651.tif\n"
     ]
    },
    {
     "name": "stderr",
     "output_type": "stream",
     "text": [
      "Linhas - 4651: 100%|██████████| 9/9 [00:12<00:00,  1.39s/it]\n"
     ]
    },
    {
     "name": "stdout",
     "output_type": "stream",
     "text": [
      "Tiles gerados: 77\n",
      "\n",
      "Processando: 4652.tif\n"
     ]
    },
    {
     "name": "stderr",
     "output_type": "stream",
     "text": [
      "Linhas - 4652: 100%|██████████| 9/9 [00:12<00:00,  1.39s/it]\n"
     ]
    },
    {
     "name": "stdout",
     "output_type": "stream",
     "text": [
      "Tiles gerados: 57\n",
      "\n",
      "Processando: 4653.tif\n"
     ]
    },
    {
     "name": "stderr",
     "output_type": "stream",
     "text": [
      "Linhas - 4653: 100%|██████████| 9/9 [00:10<00:00,  1.16s/it]\n"
     ]
    },
    {
     "name": "stdout",
     "output_type": "stream",
     "text": [
      "Tiles gerados: 50\n",
      "\n",
      "Processando: 4654.tif\n"
     ]
    },
    {
     "name": "stderr",
     "output_type": "stream",
     "text": [
      "Linhas - 4654: 100%|██████████| 9/9 [00:08<00:00,  1.03it/s]\n"
     ]
    },
    {
     "name": "stdout",
     "output_type": "stream",
     "text": [
      "Tiles gerados: 21\n",
      "\n",
      "Processando: 4655.tif\n"
     ]
    },
    {
     "name": "stderr",
     "output_type": "stream",
     "text": [
      "Linhas - 4655: 100%|██████████| 9/9 [00:08<00:00,  1.05it/s]\n"
     ]
    },
    {
     "name": "stdout",
     "output_type": "stream",
     "text": [
      "Tiles gerados: 18\n",
      "\n",
      "Processando: 4656.tif\n"
     ]
    },
    {
     "name": "stderr",
     "output_type": "stream",
     "text": [
      "Linhas - 4656: 100%|██████████| 9/9 [00:10<00:00,  1.12s/it]\n"
     ]
    },
    {
     "name": "stdout",
     "output_type": "stream",
     "text": [
      "Tiles gerados: 33\n",
      "\n",
      "Processando: 4657.tif\n"
     ]
    },
    {
     "name": "stderr",
     "output_type": "stream",
     "text": [
      "Linhas - 4657: 100%|██████████| 9/9 [00:10<00:00,  1.12s/it]\n"
     ]
    },
    {
     "name": "stdout",
     "output_type": "stream",
     "text": [
      "Tiles gerados: 48\n",
      "\n",
      "Processando: 4658.tif\n"
     ]
    },
    {
     "name": "stderr",
     "output_type": "stream",
     "text": [
      "Linhas - 4658: 100%|██████████| 9/9 [00:07<00:00,  1.24it/s]\n"
     ]
    },
    {
     "name": "stdout",
     "output_type": "stream",
     "text": [
      "Tiles gerados: 4\n",
      "\n",
      "Processando: 4659.tif\n"
     ]
    },
    {
     "name": "stderr",
     "output_type": "stream",
     "text": [
      "Linhas - 4659: 100%|██████████| 9/9 [00:11<00:00,  1.26s/it]\n"
     ]
    },
    {
     "name": "stdout",
     "output_type": "stream",
     "text": [
      "Tiles gerados: 51\n",
      "\n",
      "Processando: 4660.tif\n"
     ]
    },
    {
     "name": "stderr",
     "output_type": "stream",
     "text": [
      "Linhas - 4660: 100%|██████████| 9/9 [00:12<00:00,  1.43s/it]\n"
     ]
    },
    {
     "name": "stdout",
     "output_type": "stream",
     "text": [
      "Tiles gerados: 37\n",
      "\n",
      "Processando: 4661.tif\n"
     ]
    },
    {
     "name": "stderr",
     "output_type": "stream",
     "text": [
      "Linhas - 4661: 100%|██████████| 9/9 [00:11<00:00,  1.32s/it]\n"
     ]
    },
    {
     "name": "stdout",
     "output_type": "stream",
     "text": [
      "Tiles gerados: 2\n",
      "\n",
      "Processando: 4735.tif\n"
     ]
    },
    {
     "name": "stderr",
     "output_type": "stream",
     "text": [
      "Linhas - 4735: 100%|██████████| 9/9 [00:10<00:00,  1.18s/it]\n"
     ]
    },
    {
     "name": "stdout",
     "output_type": "stream",
     "text": [
      "Tiles gerados: 17\n",
      "\n",
      "Processando: 4736.tif\n"
     ]
    },
    {
     "name": "stderr",
     "output_type": "stream",
     "text": [
      "Linhas - 4736: 100%|██████████| 9/9 [00:21<00:00,  2.36s/it]\n"
     ]
    },
    {
     "name": "stdout",
     "output_type": "stream",
     "text": [
      "Tiles gerados: 74\n",
      "\n",
      "Processando: 4737.tif\n"
     ]
    },
    {
     "name": "stderr",
     "output_type": "stream",
     "text": [
      "Linhas - 4737:  11%|█         | 1/9 [00:01<00:12,  1.61s/it]"
     ]
    }
   ],
   "source": [
    "import os\n",
    "import rasterio\n",
    "from rasterio.windows import Window\n",
    "import numpy as np\n",
    "from tqdm import tqdm\n",
    "\n",
    "def calculate_black_pixels(tile):\n",
    "    \"\"\"Calcula porcentagem de pixels pretos (0 em todas as bandas).\"\"\"\n",
    "    if tile.ndim == 2:  # Máscaras (1 banda)\n",
    "        return np.mean(tile == 0)\n",
    "    else:  # Imagens RGB (3 bandas)\n",
    "        return np.mean(np.all(tile == 0, axis=0))\n",
    "\n",
    "def process_image_pair(raster_path, mask_path, output_x_dir, output_y_dir, tile_size=512):\n",
    "    \"\"\"Processa um par de imagem/máscara gerando tiles completos.\"\"\"\n",
    "    with rasterio.open(raster_path) as raster_src, rasterio.open(mask_path) as mask_src:\n",
    "        # Determina o número de tiles completos em cada dimensão\n",
    "        num_rows = min(raster_src.height, mask_src.height) // tile_size\n",
    "        num_cols = min(raster_src.width, mask_src.width) // tile_size\n",
    "        \n",
    "        if num_rows == 0 or num_cols == 0:\n",
    "            print(f\"Imagem {os.path.basename(raster_path)} muito pequena para tiles de {tile_size}x{tile_size}\")\n",
    "            return 0\n",
    "\n",
    "        base_name = os.path.splitext(os.path.basename(raster_path))[0]\n",
    "        tile_count = 0\n",
    "\n",
    "        for row in tqdm(range(num_rows), desc=f\"Linhas - {base_name}\"):\n",
    "            for col in range(num_cols):\n",
    "                # Calcula a posição do tile\n",
    "                y = row * tile_size\n",
    "                x = col * tile_size\n",
    "                window = Window(x, y, tile_size, tile_size)\n",
    "\n",
    "                try:\n",
    "                    # Lê os tiles\n",
    "                    raster_tile = raster_src.read(window=window)\n",
    "                    mask_tile = mask_src.read(window=window)\n",
    "                    \n",
    "                    # Verifica tamanho exato\n",
    "                    if raster_tile.shape[1:] != (tile_size, tile_size) or \\\n",
    "                       mask_tile.shape[1:] != (tile_size, tile_size):\n",
    "                        continue\n",
    "                    \n",
    "                    # Aplica filtro de pixels pretos\n",
    "                    if calculate_black_pixels(raster_tile) > 0.05 or \\\n",
    "                       calculate_black_pixels(mask_tile) > 0.05:\n",
    "                        continue\n",
    "                    \n",
    "                    # Incrementa contador e salva\n",
    "                    tile_count += 1\n",
    "                    \n",
    "                    # Salva imagem (X)\n",
    "                    output_path = os.path.join(output_x_dir, f\"{base_name}_tile_{tile_count}.tif\")\n",
    "                    with rasterio.open(output_path, 'w',\n",
    "                                     driver='GTiff',\n",
    "                                     height=tile_size,\n",
    "                                     width=tile_size,\n",
    "                                     count=raster_src.count,\n",
    "                                     dtype=raster_tile.dtype,\n",
    "                                     crs=raster_src.crs,\n",
    "                                     transform=rasterio.windows.transform(window, raster_src.transform)) as dst:\n",
    "                        dst.write(raster_tile)\n",
    "                    \n",
    "                    # Salva máscara (Y)\n",
    "                    output_path = os.path.join(output_y_dir, f\"{base_name}_tile_{tile_count}.tif\")\n",
    "                    with rasterio.open(output_path, 'w',\n",
    "                                     driver='GTiff',\n",
    "                                     height=tile_size,\n",
    "                                     width=tile_size,\n",
    "                                     count=mask_src.count,\n",
    "                                     dtype=mask_tile.dtype,\n",
    "                                     crs=mask_src.crs,\n",
    "                                     transform=rasterio.windows.transform(window, mask_src.transform)) as dst:\n",
    "                        dst.write(mask_tile)\n",
    "                \n",
    "                except Exception as e:\n",
    "                    print(f\"Erro no tile {row},{col}: {str(e)}\")\n",
    "                    continue\n",
    "        \n",
    "        return tile_count\n",
    "\n",
    "def process_dataset(raster_dir, mask_dir, output_x_dir, output_y_dir, tile_size=512):\n",
    "    \"\"\"Processa todo o conjunto de dados.\"\"\"\n",
    "    # Cria diretórios de saída\n",
    "    os.makedirs(output_x_dir, exist_ok=True)\n",
    "    os.makedirs(output_y_dir, exist_ok=True)\n",
    "    \n",
    "    # Encontra pares correspondentes\n",
    "    raster_files = {os.path.splitext(f)[0]: f for f in os.listdir(raster_dir) if f.endswith('.tif')}\n",
    "    mask_files = {os.path.splitext(f)[0]: f for f in os.listdir(mask_dir) if f.endswith('.tif')}\n",
    "    common_files = sorted(set(raster_files.keys()) & set(mask_files.keys()))\n",
    "    \n",
    "    print(f\"\\n=== Processamento Iniciado ===\")\n",
    "    print(f\"Pares encontrados: {len(common_files)}\")\n",
    "    print(f\"Tamanho do tile: {tile_size}x{tile_size}\")\n",
    "    print(f\"Limite de pixels pretos: 5%\\n\")\n",
    "    \n",
    "    total_tiles = 0\n",
    "    \n",
    "    for base_name in common_files:\n",
    "        try:\n",
    "            print(f\"\\nProcessando: {base_name}.tif\")\n",
    "            tiles_gerados = process_image_pair(\n",
    "                os.path.join(raster_dir, raster_files[base_name]),\n",
    "                os.path.join(mask_dir, mask_files[base_name]),\n",
    "                output_x_dir,\n",
    "                output_y_dir,\n",
    "                tile_size\n",
    "            )\n",
    "            print(f\"Tiles gerados: {tiles_gerados}\")\n",
    "            total_tiles += tiles_gerados\n",
    "        except Exception as e:\n",
    "            print(e)\n",
    "    \n",
    "    print(f\"\\n=== Processamento Concluído ===\")\n",
    "    print(f\"Total de tiles gerados: {total_tiles}\")\n",
    "    print(f\"Imagens X salvas em: {output_x_dir}\")\n",
    "    print(f\"Máscaras Y salvas em: {output_y_dir}\")\n",
    "\n",
    "# Diretórios de entrada\n",
    "RASTER_DIR = 'data/X/'          # Imagens RGB\n",
    "MASK_DIR = 'data/processed/y/'  # Máscaras\n",
    "\n",
    "# Diretórios de saída\n",
    "OUTPUT_X_DIR = 'dataset/X/'     # Tiles de imagens\n",
    "OUTPUT_Y_DIR = 'dataset/y/'     # Tiles de máscaras\n",
    "\n",
    "# Tamanho do tile (fixo)\n",
    "TILE_SIZE = 512\n",
    "\n",
    "# Executa o processamento\n",
    "process_dataset(RASTER_DIR, MASK_DIR, OUTPUT_X_DIR, OUTPUT_Y_DIR, TILE_SIZE)"
   ]
  },
  {
   "cell_type": "markdown",
   "id": "3b1894ff",
   "metadata": {},
   "source": [
    "### Preenche y com 255 em red"
   ]
  },
  {
   "cell_type": "code",
   "execution_count": null,
   "id": "045d9a64",
   "metadata": {},
   "outputs": [],
   "source": [
    "import rasterio\n",
    "import numpy as np\n",
    "import os\n",
    "from scipy.ndimage import gaussian_filter, generic_filter\n",
    "from scipy.stats import mode\n",
    "from scipy.ndimage import median_filter\n",
    "import cv2\n",
    "\n",
    "\n",
    "def apply_median_filter(img, size=3):\n",
    "    return median_filter(img, size=size)\n",
    "\n",
    "def apply_mode_filter(img, size=3):\n",
    "    return generic_filter(img, lambda x: mode(x).mode, size=size)\n",
    "\n",
    "\n",
    "def apply_bilateral_filter(img, d=5, sigma_color=50, sigma_space=50):\n",
    "    return cv2.bilateralFilter(img, d, sigma_color, sigma_space)\n",
    "\n",
    "\n",
    "def apply_smoothing(img, sigma=1):\n",
    "    \"\"\"Aplica um filtro gaussiano para suavizar a imagem.\"\"\"\n",
    "    return gaussian_filter(img, sigma=sigma)\n",
    "\n",
    "def remove_black_pixels(red_band, green_band, blue_band):\n",
    "    # Encontra pixels onde todas as bandas são 0 (preto)\n",
    "    black_mask = (red_band == 0) & (green_band == 0) & (blue_band == 0)\n",
    "    # Seta a banda vermelha para 255 nesses pixels\n",
    "    red_band[black_mask] = 255\n",
    "    return red_band, green_band, blue_band\n",
    "\n",
    "def maskerize_y(img):\n",
    "    # Banda Azul: Apenas classe 6 (Building)\n",
    "    blue_band = np.where(img == 6, 255, 0).astype(np.uint8)\n",
    "    # Banda Verde: Apenas classe 5 (High Vegetation)\n",
    "    green_band = np.where(img == 5, 255, 0).astype(np.uint8)\n",
    "    # Banda Vermelha: Tudo que NÃO é verde (5) nem azul (6)\n",
    "    #red_band = np.where((img != 5) & (img != 6), 255, 0).astype(np.uint8)\n",
    "    red_band = np.where((img != 5) & (img != 6) & (img != 0), 255, 0).astype(np.uint8)\n",
    "    \n",
    "    return red_band, green_band, blue_band\n",
    "\n",
    "def pipeline_y(input_dir, output_dir, sigma=1):\n",
    "    os.makedirs(output_dir, exist_ok=True)\n",
    "    tif_files = [f for f in os.listdir(input_dir) if f.endswith('.tif')]\n",
    "\n",
    "    for filename in tif_files:\n",
    "        input_path = os.path.join(input_dir, filename)\n",
    "        output_path = os.path.join(output_dir, filename)\n",
    "\n",
    "        with rasterio.open(input_path) as src:\n",
    "            img = src.read(1)\n",
    "            profile = src.profile.copy()\n",
    "\n",
    "        \n",
    "\n",
    "        # Gera as bandas RGB a partir da imagem suavizada\n",
    "        red_band, green_band, blue_band = maskerize_y(img)\n",
    "\n",
    "        profile.update({\n",
    "            'count': 3,\n",
    "            'dtype': 'uint8'\n",
    "        })\n",
    "\n",
    "        # Aplica o filtro de suavização\n",
    "        #red_band = apply_smoothing(red_band, sigma=sigma)\n",
    "        #green_band = apply_smoothing(green_band, sigma=sigma)\n",
    "        #blue_band = apply_smoothing(blue_band, sigma=sigma)\n",
    "\n",
    "        #red_band = apply_mode_filter(red_band, size=3)\n",
    "        #green_band = apply_mode_filter(green_band, size=3)\n",
    "        #blue_band = apply_mode_filter(blue_band, size=3)\n",
    "\n",
    "        red_band = apply_median_filter(red_band, size=10)\n",
    "        green_band = apply_median_filter(green_band, size=10)\n",
    "        blue_band = apply_median_filter(blue_band, size=10)\n",
    "\n",
    "        #red_band = apply_bilateral_filter(red_band)\n",
    "        #green_band = apply_bilateral_filter(green_band)\n",
    "        #blue_band = apply_bilateral_filter(blue_band)\n",
    "\n",
    "        # Garante que não haja (0, 0, 0)\n",
    "        #red_band, green_band, blue_band = remove_black_pixels(red_band, green_band, blue_band)\n",
    "\n",
    "        with rasterio.open(output_path, 'w', **profile) as dst:\n",
    "            dst.write(red_band, 1)\n",
    "            dst.write(green_band, 2)\n",
    "            dst.write(blue_band, 3)\n",
    "            \n",
    "\n",
    "        print(f\"Imagem processada: {filename} (σ={sigma})\")\n",
    "\n",
    "    print(\"Processamento concluído para todas as imagens!\")\n",
    "\n",
    "# Exemplo de uso:\n",
    "input_dir = 'dataset/y/'\n",
    "output_dir = 'dataset/w/'\n",
    "pipeline_y(input_dir, output_dir, sigma=5)"
   ]
  },
  {
   "cell_type": "code",
   "execution_count": null,
   "id": "820d9824",
   "metadata": {},
   "outputs": [],
   "source": [
    "import rasterio\n",
    "import numpy as np\n",
    "import os\n",
    "\n",
    "def remove_black_pixels(red_band, green_band, blue_band):\n",
    "    # Encontra pixels onde todas as bandas são 0 (preto)\n",
    "    black_mask = (red_band == 0) & (green_band == 0) & (blue_band == 0)\n",
    "    # Seta a banda vermelha para 255 nesses pixels\n",
    "    red_band[black_mask] = 255\n",
    "    return red_band, green_band, blue_band\n",
    "\n",
    "def pipeline_y(input_dir, output_dir):\n",
    "    os.makedirs(output_dir, exist_ok=True)\n",
    "    tif_files = [f for f in os.listdir(input_dir) if f.endswith('.tif')]\n",
    "\n",
    "    for filename in tif_files:\n",
    "        input_path = os.path.join(input_dir, filename)\n",
    "        output_path = os.path.join(output_dir, filename)\n",
    "\n",
    "        with rasterio.open(input_path) as src:\n",
    "            # Assume the image has 3 bands (RGB)\n",
    "            red_band = src.read(1)\n",
    "            green_band = src.read(2)\n",
    "            blue_band = src.read(3)\n",
    "            profile = src.profile.copy()\n",
    "\n",
    "        # Transform black pixels to red\n",
    "        red_band, green_band, blue_band = remove_black_pixels(red_band, green_band, blue_band)\n",
    "\n",
    "        profile.update({\n",
    "            'count': 3,\n",
    "            'dtype': 'uint8'\n",
    "        })\n",
    "\n",
    "        with rasterio.open(output_path, 'w', **profile) as dst:\n",
    "            dst.write(red_band, 1)\n",
    "            dst.write(green_band, 2)\n",
    "            dst.write(blue_band, 3)\n",
    "\n",
    "        print(f\"Imagem processada: {filename}\")\n",
    "\n",
    "    print(\"Processamento concluído para todas as imagens!\")\n",
    "\n",
    "input_dir = 'dataset/y/'\n",
    "output_dir = 'w/'\n",
    "pipeline_y(input_dir, output_dir)"
   ]
  },
  {
   "cell_type": "code",
   "execution_count": null,
   "id": "0f358b63",
   "metadata": {},
   "outputs": [],
   "source": []
  },
  {
   "cell_type": "code",
   "execution_count": null,
   "id": "2510f50b",
   "metadata": {},
   "outputs": [],
   "source": []
  },
  {
   "cell_type": "code",
   "execution_count": null,
   "id": "df47e722",
   "metadata": {},
   "outputs": [],
   "source": []
  },
  {
   "cell_type": "code",
   "execution_count": null,
   "id": "784866d9",
   "metadata": {},
   "outputs": [],
   "source": []
  },
  {
   "cell_type": "code",
   "execution_count": null,
   "id": "d950a6c9",
   "metadata": {},
   "outputs": [],
   "source": []
  },
  {
   "cell_type": "code",
   "execution_count": null,
   "id": "631c91da",
   "metadata": {},
   "outputs": [],
   "source": []
  },
  {
   "cell_type": "code",
   "execution_count": null,
   "id": "7c44a7dd",
   "metadata": {},
   "outputs": [],
   "source": []
  },
  {
   "cell_type": "code",
   "execution_count": null,
   "id": "45051adf",
   "metadata": {},
   "outputs": [],
   "source": []
  },
  {
   "cell_type": "code",
   "execution_count": null,
   "id": "d905c302",
   "metadata": {},
   "outputs": [],
   "source": []
  },
  {
   "cell_type": "code",
   "execution_count": null,
   "id": "e1910997",
   "metadata": {},
   "outputs": [],
   "source": []
  },
  {
   "cell_type": "code",
   "execution_count": null,
   "id": "90c84da2",
   "metadata": {},
   "outputs": [
    {
     "name": "stderr",
     "output_type": "stream",
     "text": [
      "Processando imagens: 0it [00:00, ?it/s]"
     ]
    },
    {
     "name": "stdout",
     "output_type": "stream",
     "text": [
      "\n",
      "Processamento concluído! Total de tiles gerados: 0\n"
     ]
    },
    {
     "name": "stderr",
     "output_type": "stream",
     "text": [
      "\n"
     ]
    }
   ],
   "source": [
    "import os\n",
    "import rasterio\n",
    "from tqdm import tqdm\n",
    "from rasterio.windows import Window\n",
    "\n",
    "def process_single_image(raster_path, output_dir, tile_size=512):\n",
    "    \"\"\"Processa uma única imagem gerando tiles completos.\"\"\"\n",
    "    with rasterio.open(raster_path) as raster_src:\n",
    "        # Determina o número de tiles completos em cada dimensão\n",
    "        num_rows = raster_src.height // tile_size\n",
    "        num_cols = raster_src.width // tile_size\n",
    "        \n",
    "        if num_rows == 0 or num_cols == 0:\n",
    "            print(f\"Imagem {os.path.basename(raster_path)} muito pequena para tiles de {tile_size}x{tile_size}\")\n",
    "            return 0\n",
    "\n",
    "        base_name = os.path.splitext(os.path.basename(raster_path))[0]\n",
    "        tile_count = 0\n",
    "\n",
    "        for row in range(num_rows):\n",
    "            for col in range(num_cols):\n",
    "                # Calcula a posição do tile\n",
    "                y = row * tile_size\n",
    "                x = col * tile_size\n",
    "                window = Window(x, y, tile_size, tile_size)\n",
    "\n",
    "                try:\n",
    "                    # Lê o tile\n",
    "                    raster_tile = raster_src.read(window=window)\n",
    "                    \n",
    "                    # Verifica tamanho exato\n",
    "                    if raster_tile.shape[1:] != (tile_size, tile_size):\n",
    "                        continue\n",
    "                    \n",
    "                    \n",
    "                    # Incrementa contador e salva\n",
    "                    tile_count += 1\n",
    "                    \n",
    "                    # Salva imagem\n",
    "                    output_path = os.path.join(output_dir, f\"{base_name}_tile_{tile_count}.tif\")\n",
    "                    with rasterio.open(output_path, 'w',\n",
    "                                    driver='GTiff',\n",
    "                                    height=tile_size,\n",
    "                                    width=tile_size,\n",
    "                                    count=raster_src.count,\n",
    "                                    dtype=raster_tile.dtype,\n",
    "                                    crs=raster_src.crs,\n",
    "                                    transform=rasterio.windows.transform(window, raster_src.transform)) as dst:\n",
    "                        dst.write(raster_tile)\n",
    "                \n",
    "                except Exception as e:\n",
    "                    print(f\"Erro no tile {row},{col}: {str(e)}\")\n",
    "                    continue\n",
    "        \n",
    "        return tile_count\n",
    "\n",
    "# Configurações\n",
    "RASTER_DIR = 'X/'\n",
    "OUTPUT_X_DIR = 'TILES/'\n",
    "TILE_SIZE = 512\n",
    "\n",
    "# Certifique-se que o diretório de saída existe\n",
    "os.makedirs(OUTPUT_X_DIR, exist_ok=True)\n",
    "\n",
    "# Lista todos os arquivos no diretório RASTER_DIR (ajuste os formatos conforme necessário)\n",
    "supported_formats = ['.tif', '.tiff', '.geotiff', '.jpg', '.png']\n",
    "image_files = [f for f in os.listdir(RASTER_DIR) \n",
    "              if os.path.splitext(f)[1].lower() in supported_formats]\n",
    "\n",
    "# Processa cada imagem\n",
    "total_tiles = 0\n",
    "for img_file in tqdm(image_files, desc=\"Processando imagens\"):\n",
    "    img_path = os.path.join(RASTER_DIR, img_file)\n",
    "    tiles_generated = process_single_image(img_path, OUTPUT_X_DIR, TILE_SIZE)\n",
    "    total_tiles += tiles_generated\n",
    "    print(f\"{img_file}: {tiles_generated} tiles gerados\")\n",
    "\n",
    "print(f\"\\nProcessamento concluído! Total de tiles gerados: {total_tiles}\")"
   ]
  },
  {
   "cell_type": "code",
   "execution_count": null,
   "id": "3f5f0930",
   "metadata": {},
   "outputs": [],
   "source": [
    "import os\n",
    "import rasterio\n",
    "from tqdm import tqdm\n",
    "import numpy as np\n",
    "import random\n",
    "\n",
    "def calculate_black_pixel_percentage(image_path, threshold=0):\n",
    "    \"\"\"Calcula a % de pixels pretos na imagem.\"\"\"\n",
    "    try:\n",
    "        with rasterio.open(image_path) as src:\n",
    "            data = src.read()\n",
    "            \n",
    "            # Conta pixels pretos (considerando todas as bandas)\n",
    "            if len(data.shape) == 3:  # Imagem multibanda\n",
    "                black_pixels = np.sum(np.all(data <= threshold, axis=0))\n",
    "            else:  # Banda única\n",
    "                black_pixels = np.sum(data <= threshold)\n",
    "            \n",
    "            total_pixels = data[0].size if len(data.shape) == 3 else data.size\n",
    "            return (black_pixels / total_pixels) * 100 \n",
    "\n",
    "\n",
    "# Função probabilíostica para descartar 98% das imagens com mais de 95% de pixels pretos\n",
    "def should_discard_image(black_percentage):\n",
    "    \"\"\"Retorna True com 98% de chance se >5% dos pixels forem pretos.\"\"\"\n",
    "    if black_percentage > 5:\n",
    "        return random.random() < 0.98\n",
    "    return False\n",
    "\n",
    "\n",
    "def delete_black_images(tiles_dir, threshold=0):\n",
    "    \"\"\"Deleta imagens completamente pretas no diretório especificado.\"\"\"\n",
    "    # Lista todos os arquivos no diretório (ajuste os formatos conforme necessário)\n",
    "    supported_formats = ['.tif', '.tiff', '.geotiff', '.jpg', '.png']\n",
    "    image_files = [f for f in os.listdir(tiles_dir) \n",
    "                 if os.path.splitext(f)[1].lower() in supported_formats]\n",
    "    \n",
    "    deleted_count = 0\n",
    "    for img_file in tqdm(image_files, desc=\"Verificando imagens pretas\"):\n",
    "        img_path = os.path.join(tiles_dir, img_file)\n",
    "        black_percentage = calculate_black_pixel_percentage(img_path, threshold)\n",
    "        if should_discard_image(black_percentage):\n",
    "            try:\n",
    "                os.remove(img_path)\n",
    "                deleted_count += 1\n",
    "            except Exception as e:\n",
    "                print(f\"Erro ao deletar {img_path}: {str(e)}\")\n",
    "    \n",
    "    print(f\"\\nProcessamento concluído! Total de imagens pretas deletadas: {deleted_count}\")\n",
    "\n",
    "# Configurações\n",
    "TILES_DIR = 'TILES/'\n",
    "THRESHOLD = 0  # Ajuste este valor conforme necessário\n",
    "\n",
    "# Executa a limpeza\n",
    "delete_black_images(TILES_DIR, THRESHOLD)"
   ]
  },
  {
   "cell_type": "code",
   "execution_count": null,
   "id": "58d256c2",
   "metadata": {},
   "outputs": [],
   "source": []
  }
 ],
 "metadata": {
  "kernelspec": {
   "display_name": "land_classification",
   "language": "python",
   "name": "python3"
  },
  "language_info": {
   "codemirror_mode": {
    "name": "ipython",
    "version": 3
   },
   "file_extension": ".py",
   "mimetype": "text/x-python",
   "name": "python",
   "nbconvert_exporter": "python",
   "pygments_lexer": "ipython3",
   "version": "3.9.18"
  }
 },
 "nbformat": 4,
 "nbformat_minor": 5
}
